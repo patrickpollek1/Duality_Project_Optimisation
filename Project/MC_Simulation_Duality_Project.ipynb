{
 "cells": [
  {
   "cell_type": "markdown",
   "id": "558d4c2a",
   "metadata": {},
   "source": [
    "## Monte-Carlo simulation study\n",
    "\n"
   ]
  },
  {
   "cell_type": "markdown",
   "id": "b806a97b",
   "metadata": {},
   "source": [
    "This Notebook performs a Monte-Carlo simulation study to find out what impact higer dimesional Data has on the time to fit the primal and dual Problem.\n"
   ]
  },
  {
   "cell_type": "markdown",
   "id": "d9dd12c7",
   "metadata": {},
   "source": [
    "Some imports to start with"
   ]
  },
  {
   "cell_type": "code",
   "execution_count": 8,
   "id": "0e40890d",
   "metadata": {},
   "outputs": [],
   "source": [
    "import time\n",
    "import numpy as np\n",
    "from sklearn.datasets import make_classification\n",
    "from sklearn.svm import LinearSVC\n",
    "import matplotlib.pyplot as plt\n",
    "from tqdm import tqdm"
   ]
  },
  {
   "cell_type": "markdown",
   "id": "a2867f5b",
   "metadata": {},
   "source": [
    "We will create the Datasts on which we fit the model using make_classification from sklearn"
   ]
  },
  {
   "cell_type": "markdown",
   "id": "f76e58d3",
   "metadata": {},
   "source": [
    "The class createClassificationData will generate one dataset with n_features for every entry in sample_array. The Values in sample_array specify the number of Samples. All other attributes are selfexplaining or can be looked up in the documentation of  make_classification."
   ]
  },
  {
   "cell_type": "code",
   "execution_count": 6,
   "id": "f466cbe7",
   "metadata": {},
   "outputs": [],
   "source": [
    "class createClassificationData():\n",
    "    def __init__(self, n_features, n_informative, n_clusters_per_class, sample_array, n_classes, class_sep):\n",
    "        self.n_features = n_features\n",
    "        self.n_informative = n_informative\n",
    "        self.n_clusters_per_class = n_clusters_per_class\n",
    "        self.n_classes = n_classes\n",
    "        self.sampleArray = sample_array\n",
    "        self.class_sep = class_sep\n",
    "        self.x_trains = []\n",
    "        self.y_trains = []\n",
    "\n",
    "    def create(self):\n",
    "        for i in self.sampleArray:\n",
    "            x, y = make_classification(n_samples=i, n_features=self.n_features, n_informative=self.n_informative,\n",
    "                                       n_classes=self.n_classes, n_redundant=0,\n",
    "                                       n_clusters_per_class=self.n_clusters_per_class, class_sep=self.class_sep)\n",
    "            self.x_trains.append(x)\n",
    "            self.y_trains.append(y)"
   ]
  },
  {
   "cell_type": "markdown",
   "id": "5ac503dd",
   "metadata": {},
   "source": [
    "One Instance of the class Result() will have the results of one MC simualtion. So for Datasets with a fixed number of samples and features (and other parameters) over #number_of_MC_it runs.\n",
    "\n",
    "The class also provides a basic print function and a function to get the reulsts in a latex format to include it in a table."
   ]
  },
  {
   "cell_type": "code",
   "execution_count": 5,
   "id": "341f296d",
   "metadata": {},
   "outputs": [],
   "source": [
    "class Result():\n",
    "    def __init__(self, number_of_MC_it, n_samples, n_features, n_informative, n_clusters_per_class, method, avg_time,\n",
    "                 avg_acc,var):\n",
    "        self.avg_time = avg_time\n",
    "        self.avg_acc = avg_acc\n",
    "        self.method = method\n",
    "        self.n_samples = n_samples\n",
    "        self.n_features = n_features\n",
    "        self.n_informative = n_informative\n",
    "        self.n_clusters_per_class = n_clusters_per_class\n",
    "        self.number_of_MC_it = number_of_MC_it\n",
    "        self.var=var\n",
    "        self.err=1.960*var/np.sqrt(number_of_MC_it)\n",
    "        #self.upper=avg_time+1.960*var*np.sqrt(number_of_MC_it)\n",
    "\n",
    "    def print_it(self):\n",
    "        print('############################################################################')\n",
    "        print(\"Number of Samples : \", self.n_samples)\n",
    "        print(\"Number of features : \", self.n_features)\n",
    "        print(\"Number of informative features : \", self.n_informative)\n",
    "        print(\"Number of clusters per class : \", self.n_clusters_per_class)\n",
    "        print(\"Number of Montecarlo iterations : \", self.number_of_MC_it)\n",
    "        print('####################--RESULTS--##############################')\n",
    "        print('Problem (Primal/Dual): ', self.method)\n",
    "        print(\"Average time to fit the model\", self.avg_time)\n",
    "        print(\"Variance of time fit the model\", self.var)\n",
    "        print(\"Average Accuracy achieved\", self.avg_acc)\n",
    "        print('############################################################################')\n",
    "\n",
    "    def print_latex(self):\n",
    "        print(str(self.method)+\" & \"+ str(self.n_samples)+\" & \"+str(self.n_features)+\" & \"+str(self.n_informative)+\" & \"+str(self.n_clusters_per_class)+\" & \"+\"{:.4f}\".format(self.avg_acc)+\" & \"+\"{:.7f}\".format(self.avg_time)+\" & \"+\"{:.7f}\".format(self.var))\n",
    "\n"
   ]
  },
  {
   "cell_type": "markdown",
   "id": "31aac552",
   "metadata": {},
   "source": [
    "The class timeit() implemets the measuring of time of each fit. \n",
    "\n",
    "The function run_n_times_for_single runs n times the fitting of the dual and primal for a specific pair of #features and #datapoints. \n",
    "It also saves the result as a Result object. \n",
    "\n",
    "The function run_all runs this fot all elemets of the sample_array. \n",
    "\n",
    "It also implements printing methods and plooting. \n",
    "\n",
    "\n",
    "\n"
   ]
  },
  {
   "cell_type": "code",
   "execution_count": 4,
   "id": "eeebfebf",
   "metadata": {},
   "outputs": [],
   "source": [
    "class timeit():\n",
    "    def __init__(self,n_features, n_informative, n_clusters_per_class, sample_array, n_classes, class_sep):\n",
    "        self.n_features = n_features\n",
    "        self.n_informative = n_informative\n",
    "        self.n_clusters_per_class = n_clusters_per_class\n",
    "        self.n_classes = n_classes\n",
    "        self.sampleArray = sample_array\n",
    "        self.class_sep = class_sep\n",
    "        self.x_trains = []\n",
    "        self.y_trains = []\n",
    "        self.results = []\n",
    "\n",
    "    def run_all(self,n):\n",
    "        for i in range(len(self.sampleArray)):\n",
    "            self.run_n_times_for_single(n, i)\n",
    "\n",
    "\n",
    "    def run_n_times_for_single(self, n, j):\n",
    "        times_primal = []\n",
    "        acc_primal = []\n",
    "        times_dual = []\n",
    "        acc_dual = []\n",
    "        for i in range(n):\n",
    "            x, y = make_classification(n_samples=self.sampleArray[j], n_features=self.n_features, n_informative=self.n_informative,\n",
    "                                       n_classes=self.n_classes, n_redundant=0,\n",
    "                                       n_clusters_per_class=self.n_clusters_per_class, class_sep=self.class_sep)\n",
    "            clf = LinearSVC(dual=False, max_iter=200000)\n",
    "            start = time.time()\n",
    "            clf.fit(x, y)\n",
    "            end = time.time()\n",
    "            times_primal.append(end - start)\n",
    "            acc_primal.append(clf.score(x, y))\n",
    "        self.results.append(Result(n, self.sampleArray[j], self.n_features, self.n_informative,\n",
    "                                   self.n_clusters_per_class, \"Primal\", np.average(times_primal),\n",
    "                                   np.average(acc_primal),np.std(times_primal)))\n",
    "        for i in range(n):\n",
    "            x, y = make_classification(n_samples=self.sampleArray[j], n_features=self.n_features,\n",
    "                                       n_informative=self.n_informative,\n",
    "                                       n_classes=self.n_classes, n_redundant=0,\n",
    "                                       n_clusters_per_class=self.n_clusters_per_class, class_sep=self.class_sep)\n",
    "            clf = LinearSVC(dual=True, max_iter=200000)\n",
    "            start = time.time()\n",
    "            clf.fit(x, y)\n",
    "            end = time.time()\n",
    "            times_dual.append(end - start)\n",
    "            acc_dual.append(clf.score(x, y))\n",
    "        self.results.append(Result(n, self.sampleArray[j], self.n_features, self.n_informative,\n",
    "                                   self.n_clusters_per_class, \"Dual\", np.average(times_dual),\n",
    "                                   np.average(acc_dual),np.std(times_dual)))\n",
    "\n",
    "    def print_Results(self):\n",
    "        for res in self.results:\n",
    "            res.print_it()\n",
    "\n",
    "    def print_latex_Results(self):\n",
    "        for res in self.results:\n",
    "            res.print_latex()\n",
    "\n",
    "    def plotting(self):\n",
    "        times_primal=[]\n",
    "        times_dual = []\n",
    "        samples=self.sampleArray\n",
    "        err_dual=[]\n",
    "        err_prim=[]\n",
    "        for i in self.results:\n",
    "            if i.method==\"Dual\":\n",
    "                times_dual.append(i.avg_time)\n",
    "                err_dual.append(i.err)\n",
    "            else:\n",
    "                times_primal.append(i.avg_time)\n",
    "                err_prim.append(i.err)\n",
    "        plt.errorbar(samples,times_primal,yerr=err_prim,label='Primal Problem')\n",
    "        plt.errorbar(samples, times_dual,yerr=err_dual,label='Dual Problem')\n",
    "        plt.ylabel('Average time to fit the model (n=100)')\n",
    "        plt.xlabel('Number of Datapoints')\n",
    "        plt.legend()\n",
    "        plt.show()\n",
    "\n"
   ]
  },
  {
   "cell_type": "markdown",
   "id": "69398482",
   "metadata": {},
   "source": [
    "# Expriments"
   ]
  },
  {
   "cell_type": "markdown",
   "id": "7fc9f46a",
   "metadata": {},
   "source": [
    "## Samples>Features seeting"
   ]
  },
  {
   "cell_type": "markdown",
   "id": "3ede7427",
   "metadata": {},
   "source": [
    "Number of features :  2 \\\n",
    "Number of informative features :  2 \\\n",
    "Number of clusters per class :  1 \\\n",
    "Number of Montecarlo iterations :  100\\\n",
    "Samples : [100,1000,10000]\n"
   ]
  },
  {
   "cell_type": "code",
   "execution_count": 19,
   "id": "4bfb917a",
   "metadata": {},
   "outputs": [
    {
     "name": "stdout",
     "output_type": "stream",
     "text": [
      "############################################################################\n",
      "Number of Samples :  100\n",
      "Number of features :  2\n",
      "Number of informative features :  2\n",
      "Number of clusters per class :  1\n",
      "Number of Montecarlo iterations :  100\n",
      "####################--RESULTS--##############################\n",
      "Problem (Primal/Dual):  Primal\n",
      "Average time to fit the model 0.00024854183197021485\n",
      "Variance of time fit the model 0.000430797452448687\n",
      "Average Accuracy achieved 0.9492999999999999\n",
      "############################################################################\n",
      "############################################################################\n",
      "Number of Samples :  100\n",
      "Number of features :  2\n",
      "Number of informative features :  2\n",
      "Number of clusters per class :  1\n",
      "Number of Montecarlo iterations :  100\n",
      "####################--RESULTS--##############################\n",
      "Problem (Primal/Dual):  Dual\n",
      "Average time to fit the model 0.00040033578872680667\n",
      "Variance of time fit the model 0.0004903092990129606\n",
      "Average Accuracy achieved 0.944\n",
      "############################################################################\n",
      "############################################################################\n",
      "Number of Samples :  1000\n",
      "Number of features :  2\n",
      "Number of informative features :  2\n",
      "Number of clusters per class :  1\n",
      "Number of Montecarlo iterations :  100\n",
      "####################--RESULTS--##############################\n",
      "Problem (Primal/Dual):  Primal\n",
      "Average time to fit the model 0.0005805325508117675\n",
      "Variance of time fit the model 0.0004940118847092529\n",
      "Average Accuracy achieved 0.9397199999999998\n",
      "############################################################################\n",
      "############################################################################\n",
      "Number of Samples :  1000\n",
      "Number of features :  2\n",
      "Number of informative features :  2\n",
      "Number of clusters per class :  1\n",
      "Number of Montecarlo iterations :  100\n",
      "####################--RESULTS--##############################\n",
      "Problem (Primal/Dual):  Dual\n",
      "Average time to fit the model 0.002667675018310547\n",
      "Variance of time fit the model 0.0016565146390796145\n",
      "Average Accuracy achieved 0.9482400000000001\n",
      "############################################################################\n",
      "############################################################################\n",
      "Number of Samples :  10000\n",
      "Number of features :  2\n",
      "Number of informative features :  2\n",
      "Number of clusters per class :  1\n",
      "Number of Montecarlo iterations :  100\n",
      "####################--RESULTS--##############################\n",
      "Problem (Primal/Dual):  Primal\n",
      "Average time to fit the model 0.003633270263671875\n",
      "Variance of time fit the model 0.0006113891238263939\n",
      "Average Accuracy achieved 0.9485810000000001\n",
      "############################################################################\n",
      "############################################################################\n",
      "Number of Samples :  10000\n",
      "Number of features :  2\n",
      "Number of informative features :  2\n",
      "Number of clusters per class :  1\n",
      "Number of Montecarlo iterations :  100\n",
      "####################--RESULTS--##############################\n",
      "Problem (Primal/Dual):  Dual\n",
      "Average time to fit the model 0.04387286424636841\n",
      "Variance of time fit the model 0.0239811016299946\n",
      "Average Accuracy achieved 0.940676\n",
      "############################################################################\n"
     ]
    }
   ],
   "source": [
    "time2 = timeit(2, 2, 1, [100,1000,10000], 2, 1)\n",
    "time2.run_all(100)\n",
    "time2.print_Results()"
   ]
  },
  {
   "cell_type": "code",
   "execution_count": 20,
   "id": "ff1383b1",
   "metadata": {},
   "outputs": [
    {
     "data": {
      "image/png": "[encoded data removed]",
      "text/plain": [
       "<Figure size 432x288 with 1 Axes>"
      ]
     },
     "metadata": {
      "needs_background": "light"
     },
     "output_type": "display_data"
    }
   ],
   "source": [
    "time2.plotting()"
   ]
  },
  {
   "cell_type": "markdown",
   "id": "ff80ef00",
   "metadata": {},
   "source": [
    "We can see that Primal Problem is faster in this seeting as expected."
   ]
  },
  {
   "cell_type": "markdown",
   "id": "adf0e3f2",
   "metadata": {},
   "source": [
    "## Features>Samples Setting"
   ]
  },
  {
   "cell_type": "markdown",
   "id": "38e75dba",
   "metadata": {},
   "source": [
    "Number of features :  400\\\n",
    "Number of informative features :  20\\\n",
    "Number of clusters per class :  2\\\n",
    "Number of Montecarlo iterations :  100\\\n",
    "Samples: [100,200,300,500]"
   ]
  },
  {
   "cell_type": "code",
   "execution_count": 21,
   "id": "9a9803e4",
   "metadata": {},
   "outputs": [
    {
     "name": "stdout",
     "output_type": "stream",
     "text": [
      "############################################################################\n",
      "Number of Samples :  100\n",
      "Number of features :  400\n",
      "Number of informative features :  20\n",
      "Number of clusters per class :  2\n",
      "Number of Montecarlo iterations :  100\n",
      "####################--RESULTS--##############################\n",
      "Problem (Primal/Dual):  Primal\n",
      "Average time to fit the model 0.06020483732223511\n",
      "Variance of time fit the model 0.016874605997753974\n",
      "Average Accuracy achieved 1.0\n",
      "############################################################################\n",
      "############################################################################\n",
      "Number of Samples :  100\n",
      "Number of features :  400\n",
      "Number of informative features :  20\n",
      "Number of clusters per class :  2\n",
      "Number of Montecarlo iterations :  100\n",
      "####################--RESULTS--##############################\n",
      "Problem (Primal/Dual):  Dual\n",
      "Average time to fit the model 0.0018016600608825684\n",
      "Variance of time fit the model 0.0004903892805955227\n",
      "Average Accuracy achieved 1.0\n",
      "############################################################################\n",
      "############################################################################\n",
      "Number of Samples :  200\n",
      "Number of features :  400\n",
      "Number of informative features :  20\n",
      "Number of clusters per class :  2\n",
      "Number of Montecarlo iterations :  100\n",
      "####################--RESULTS--##############################\n",
      "Problem (Primal/Dual):  Primal\n",
      "Average time to fit the model 0.21528926372528076\n",
      "Variance of time fit the model 0.03641853846737123\n",
      "Average Accuracy achieved 1.0\n",
      "############################################################################\n",
      "############################################################################\n",
      "Number of Samples :  200\n",
      "Number of features :  400\n",
      "Number of informative features :  20\n",
      "Number of clusters per class :  2\n",
      "Number of Montecarlo iterations :  100\n",
      "####################--RESULTS--##############################\n",
      "Problem (Primal/Dual):  Dual\n",
      "Average time to fit the model 0.005034582614898682\n",
      "Variance of time fit the model 0.0010821980299821545\n",
      "Average Accuracy achieved 1.0\n",
      "############################################################################\n",
      "############################################################################\n",
      "Number of Samples :  300\n",
      "Number of features :  400\n",
      "Number of informative features :  20\n",
      "Number of clusters per class :  2\n",
      "Number of Montecarlo iterations :  100\n",
      "####################--RESULTS--##############################\n",
      "Problem (Primal/Dual):  Primal\n",
      "Average time to fit the model 0.36316373825073245\n",
      "Variance of time fit the model 0.0603643070738039\n",
      "Average Accuracy achieved 1.0\n",
      "############################################################################\n",
      "############################################################################\n",
      "Number of Samples :  300\n",
      "Number of features :  400\n",
      "Number of informative features :  20\n",
      "Number of clusters per class :  2\n",
      "Number of Montecarlo iterations :  100\n",
      "####################--RESULTS--##############################\n",
      "Problem (Primal/Dual):  Dual\n",
      "Average time to fit the model 0.00878803014755249\n",
      "Variance of time fit the model 0.002441767352949373\n",
      "Average Accuracy achieved 1.0\n",
      "############################################################################\n",
      "############################################################################\n",
      "Number of Samples :  500\n",
      "Number of features :  400\n",
      "Number of informative features :  20\n",
      "Number of clusters per class :  2\n",
      "Number of Montecarlo iterations :  100\n",
      "####################--RESULTS--##############################\n",
      "Problem (Primal/Dual):  Primal\n",
      "Average time to fit the model 0.5159210515022278\n",
      "Variance of time fit the model 0.11284780785165223\n",
      "Average Accuracy achieved 1.0\n",
      "############################################################################\n",
      "############################################################################\n",
      "Number of Samples :  500\n",
      "Number of features :  400\n",
      "Number of informative features :  20\n",
      "Number of clusters per class :  2\n",
      "Number of Montecarlo iterations :  100\n",
      "####################--RESULTS--##############################\n",
      "Problem (Primal/Dual):  Dual\n",
      "Average time to fit the model 0.027835402488708496\n",
      "Variance of time fit the model 0.010898698080562487\n",
      "Average Accuracy achieved 1.0\n",
      "############################################################################\n"
     ]
    }
   ],
   "source": [
    "time2 = timeit(400, 20, 2, [100,200,300,500], 2, 1)\n",
    "time2.run_all(100)\n",
    "time2.print_Results()\n"
   ]
  },
  {
   "cell_type": "code",
   "execution_count": 22,
   "id": "563dace1",
   "metadata": {},
   "outputs": [
    {
     "data": {
      "image/png": "[encoded data removed]",
      "text/plain": [
       "<Figure size 432x288 with 1 Axes>"
      ]
     },
     "metadata": {
      "needs_background": "light"
     },
     "output_type": "display_data"
    }
   ],
   "source": [
    "time2.plotting()"
   ]
  },
  {
   "cell_type": "markdown",
   "id": "b40deadd",
   "metadata": {},
   "source": [
    "We see that in this setting the Dual problem is much faster."
   ]
  },
  {
   "cell_type": "markdown",
   "id": "f60e2ebe",
   "metadata": {},
   "source": [
    "# another comparison"
   ]
  },
  {
   "cell_type": "code",
   "execution_count": 23,
   "id": "51e44e26",
   "metadata": {},
   "outputs": [
    {
     "name": "stdout",
     "output_type": "stream",
     "text": [
      "############################################################################\n",
      "Number of Samples :  100\n",
      "Number of features :  3000\n",
      "Number of informative features :  20\n",
      "Number of clusters per class :  1\n",
      "Number of Montecarlo iterations :  100\n",
      "####################--RESULTS--##############################\n",
      "Problem (Primal/Dual):  Primal\n",
      "Average time to fit the model 0.15004245519638063\n",
      "Variance of time fit the model 0.0306562114903919\n",
      "Average Accuracy achieved 1.0\n",
      "############################################################################\n",
      "############################################################################\n",
      "Number of Samples :  100\n",
      "Number of features :  3000\n",
      "Number of informative features :  20\n",
      "Number of clusters per class :  1\n",
      "Number of Montecarlo iterations :  100\n",
      "####################--RESULTS--##############################\n",
      "Problem (Primal/Dual):  Dual\n",
      "Average time to fit the model 0.007426750659942627\n",
      "Variance of time fit the model 0.0009610391046247753\n",
      "Average Accuracy achieved 1.0\n",
      "############################################################################\n",
      "############################################################################\n",
      "Number of Samples :  500\n",
      "Number of features :  3000\n",
      "Number of informative features :  20\n",
      "Number of clusters per class :  1\n",
      "Number of Montecarlo iterations :  100\n",
      "####################--RESULTS--##############################\n",
      "Problem (Primal/Dual):  Primal\n",
      "Average time to fit the model 0.619646270275116\n",
      "Variance of time fit the model 0.46241610601757555\n",
      "Average Accuracy achieved 1.0\n",
      "############################################################################\n",
      "############################################################################\n",
      "Number of Samples :  500\n",
      "Number of features :  3000\n",
      "Number of informative features :  20\n",
      "Number of clusters per class :  1\n",
      "Number of Montecarlo iterations :  100\n",
      "####################--RESULTS--##############################\n",
      "Problem (Primal/Dual):  Dual\n",
      "Average time to fit the model 0.05944017171859741\n",
      "Variance of time fit the model 0.004838258986033291\n",
      "Average Accuracy achieved 1.0\n",
      "############################################################################\n",
      "############################################################################\n",
      "Number of Samples :  1000\n",
      "Number of features :  3000\n",
      "Number of informative features :  20\n",
      "Number of clusters per class :  1\n",
      "Number of Montecarlo iterations :  100\n",
      "####################--RESULTS--##############################\n",
      "Problem (Primal/Dual):  Primal\n",
      "Average time to fit the model 0.8106559681892395\n",
      "Variance of time fit the model 1.0312875740744043\n",
      "Average Accuracy achieved 1.0\n",
      "############################################################################\n",
      "############################################################################\n",
      "Number of Samples :  1000\n",
      "Number of features :  3000\n",
      "Number of informative features :  20\n",
      "Number of clusters per class :  1\n",
      "Number of Montecarlo iterations :  100\n",
      "####################--RESULTS--##############################\n",
      "Problem (Primal/Dual):  Dual\n",
      "Average time to fit the model 0.13140355110168456\n",
      "Variance of time fit the model 0.010983948305488087\n",
      "Average Accuracy achieved 1.0\n",
      "############################################################################\n",
      "############################################################################\n",
      "Number of Samples :  2000\n",
      "Number of features :  3000\n",
      "Number of informative features :  20\n",
      "Number of clusters per class :  1\n",
      "Number of Montecarlo iterations :  100\n",
      "####################--RESULTS--##############################\n",
      "Problem (Primal/Dual):  Primal\n",
      "Average time to fit the model 1.9575581932067871\n",
      "Variance of time fit the model 8.901740706895998\n",
      "Average Accuracy achieved 1.0\n",
      "############################################################################\n",
      "############################################################################\n",
      "Number of Samples :  2000\n",
      "Number of features :  3000\n",
      "Number of informative features :  20\n",
      "Number of clusters per class :  1\n",
      "Number of Montecarlo iterations :  100\n",
      "####################--RESULTS--##############################\n",
      "Problem (Primal/Dual):  Dual\n",
      "Average time to fit the model 0.3125958204269409\n",
      "Variance of time fit the model 0.0493086004619544\n",
      "Average Accuracy achieved 1.0\n",
      "############################################################################\n"
     ]
    }
   ],
   "source": [
    "time2 = timeit(3000, 20, 1, [100,500,1000,2000], 2, 1)\n",
    "time2.run_all(100)\n",
    "time2.print_Results()\n"
   ]
  },
  {
   "cell_type": "code",
   "execution_count": 24,
   "id": "c2ec5ca9",
   "metadata": {},
   "outputs": [
    {
     "data": {
      "image/png": "[encoded data removed]",
      "text/plain": [
       "<Figure size 432x288 with 1 Axes>"
      ]
     },
     "metadata": {
      "needs_background": "light"
     },
     "output_type": "display_data"
    }
   ],
   "source": [
    "time2.plotting()"
   ]
  },
  {
   "cell_type": "markdown",
   "id": "c883a42d",
   "metadata": {},
   "source": [
    "Dual problem faster again."
   ]
  },
  {
   "cell_type": "markdown",
   "id": "dfc60d12",
   "metadata": {},
   "source": [
    "# simualtion to create plot like in the report."
   ]
  },
  {
   "cell_type": "code",
   "execution_count": null,
   "id": "b47772ea",
   "metadata": {},
   "outputs": [],
   "source": [
    "time2 = timeit(600, 20, 2, np.arange(50,4200,50), 2, 1)\n",
    "time2.run_all(35)"
   ]
  },
  {
   "cell_type": "code",
   "execution_count": null,
   "id": "e1ab3052",
   "metadata": {},
   "outputs": [],
   "source": [
    "time2.plotting()"
   ]
  },
  {
   "cell_type": "code",
   "execution_count": null,
   "id": "a6922684",
   "metadata": {},
   "outputs": [],
   "source": []
  }
 ],
 "metadata": {
  "kernelspec": {
   "display_name": "Python 3 (ipykernel)",
   "language": "python",
   "name": "python3"
  },
  "language_info": {
   "codemirror_mode": {
    "name": "ipython",
    "version": 3
   },
   "file_extension": ".py",
   "mimetype": "text/x-python",
   "name": "python",
   "nbconvert_exporter": "python",
   "pygments_lexer": "ipython3",
   "version": "3.9.7"
  }
 },
 "nbformat": 4,
 "nbformat_minor": 5
}
